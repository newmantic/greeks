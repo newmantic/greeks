{
  "nbformat": 4,
  "nbformat_minor": 0,
  "metadata": {
    "colab": {
      "provenance": [],
      "authorship_tag": "ABX9TyM/vQLtFr/6172I8DDmEeBr",
      "include_colab_link": true
    },
    "kernelspec": {
      "name": "python3",
      "display_name": "Python 3"
    },
    "language_info": {
      "name": "python"
    }
  },
  "cells": [
    {
      "cell_type": "markdown",
      "metadata": {
        "id": "view-in-github",
        "colab_type": "text"
      },
      "source": [
        "<a href=\"https://colab.research.google.com/github/newmantic/greeks/blob/main/greeks.ipynb\" target=\"_parent\"><img src=\"https://colab.research.google.com/assets/colab-badge.svg\" alt=\"Open In Colab\"/></a>"
      ]
    },
    {
      "cell_type": "code",
      "execution_count": 1,
      "metadata": {
        "id": "gGuHvMPhvBt5"
      },
      "outputs": [],
      "source": [
        "import numpy as np\n",
        "import scipy.stats as si"
      ]
    },
    {
      "cell_type": "code",
      "source": [
        "def black_scholes(S, K, T, r, sigma, option_type=\"call\"):\n",
        "    \"\"\"\n",
        "    Calculate the Black-Scholes price for European call or put options.\n",
        "\n",
        "    Parameters:\n",
        "    S (float): Current stock price.\n",
        "    K (float): Option strike price.\n",
        "    T (float): Time to expiration in years.\n",
        "    r (float): Risk-free interest rate.\n",
        "    sigma (float): Volatility of the underlying asset.\n",
        "    option_type (str): 'call' for call option, 'put' for put option.\n",
        "\n",
        "    Returns:\n",
        "    float: The price of the option.\n",
        "    \"\"\"\n",
        "    d1 = (np.log(S / K) + (r + 0.5 * sigma**2) * T) / (sigma * np.sqrt(T))\n",
        "    d2 = d1 - sigma * np.sqrt(T)\n",
        "\n",
        "    if option_type == \"call\":\n",
        "        option_price = S * si.norm.cdf(d1) - K * np.exp(-r * T) * si.norm.cdf(d2)\n",
        "    elif option_type == \"put\":\n",
        "        option_price = K * np.exp(-r * T) * si.norm.cdf(-d2) - S * si.norm.cdf(-d1)\n",
        "\n",
        "    return option_price"
      ],
      "metadata": {
        "id": "5zNkYZ1nva6l"
      },
      "execution_count": 2,
      "outputs": []
    },
    {
      "cell_type": "code",
      "source": [
        "def delta(S, K, T, r, sigma, option_type=\"call\"):\n",
        "    d1 = (np.log(S / K) + (r + 0.5 * sigma**2) * T) / (sigma * np.sqrt(T))\n",
        "    if option_type == \"call\":\n",
        "        return si.norm.cdf(d1)\n",
        "    elif option_type == \"put\":\n",
        "        return si.norm.cdf(d1) - 1"
      ],
      "metadata": {
        "id": "94FUi0KJvdoQ"
      },
      "execution_count": 3,
      "outputs": []
    },
    {
      "cell_type": "code",
      "source": [
        "def gamma(S, K, T, r, sigma):\n",
        "    d1 = (np.log(S / K) + (r + 0.5 * sigma**2) * T) / (sigma * np.sqrt(T))\n",
        "    return si.norm.pdf(d1) / (S * sigma * np.sqrt(T))"
      ],
      "metadata": {
        "id": "8ae8g9g2vgPW"
      },
      "execution_count": 4,
      "outputs": []
    },
    {
      "cell_type": "code",
      "source": [
        "def theta(S, K, T, r, sigma, option_type=\"call\"):\n",
        "    d1 = (np.log(S / K) + (r + 0.5 * sigma**2) * T) / (sigma * np.sqrt(T))\n",
        "    d2 = d1 - sigma * np.sqrt(T)\n",
        "\n",
        "    if option_type == \"call\":\n",
        "        theta = (-S * si.norm.pdf(d1) * sigma / (2 * np.sqrt(T))\n",
        "                 - r * K * np.exp(-r * T) * si.norm.cdf(d2))\n",
        "    elif option_type == \"put\":\n",
        "        theta = (-S * si.norm.pdf(d1) * sigma / (2 * np.sqrt(T))\n",
        "                 + r * K * np.exp(-r * T) * si.norm.cdf(-d2))\n",
        "\n",
        "    return theta / 365  # Convert to per day"
      ],
      "metadata": {
        "id": "GbekhJgkviMj"
      },
      "execution_count": 5,
      "outputs": []
    },
    {
      "cell_type": "code",
      "source": [
        "def vega(S, K, T, r, sigma):\n",
        "    d1 = (np.log(S / K) + (r + 0.5 * sigma**2) * T) / (sigma * np.sqrt(T))\n",
        "    return S * si.norm.pdf(d1) * np.sqrt(T) / 100  # Vega is typically expressed per 1% change in volatility"
      ],
      "metadata": {
        "id": "mimmsWUtvklc"
      },
      "execution_count": 6,
      "outputs": []
    },
    {
      "cell_type": "code",
      "source": [
        "def rho(S, K, T, r, sigma, option_type=\"call\"):\n",
        "    d2 = (np.log(S / K) + (r - 0.5 * sigma**2) * T) / (sigma * np.sqrt(T))\n",
        "\n",
        "    if option_type == \"call\":\n",
        "        return K * T * np.exp(-r * T) * si.norm.cdf(d2) / 100  # Rho is typically expressed per 1% change in interest rate\n",
        "    elif option_type == \"put\":\n",
        "        return -K * T * np.exp(-r * T) * si.norm.cdf(-d2) / 100"
      ],
      "metadata": {
        "id": "8BENqOFQvm9O"
      },
      "execution_count": 7,
      "outputs": []
    },
    {
      "cell_type": "code",
      "source": [
        "# example parameters:\n",
        "S = 100  # Current stock price\n",
        "K = 100  # Strike price\n",
        "T = 1  # Time to expiration in years\n",
        "r = 0.05  # Risk-free interest rate\n",
        "sigma = 0.2  # Volatility\n",
        "\n",
        "# Calculating Greeks for a call option:\n",
        "call_delta = delta(S, K, T, r, sigma, option_type=\"call\")\n",
        "call_gamma = gamma(S, K, T, r, sigma)\n",
        "call_theta = theta(S, K, T, r, sigma, option_type=\"call\")\n",
        "call_vega = vega(S, K, T, r, sigma)\n",
        "call_rho = rho(S, K, T, r, sigma, option_type=\"call\")\n",
        "\n",
        "print(f\"Call Option Greeks:\")\n",
        "print(f\"Delta: {call_delta}\")\n",
        "print(f\"Gamma: {call_gamma}\")\n",
        "print(f\"Theta: {call_theta}\")\n",
        "print(f\"Vega: {call_vega}\")\n",
        "print(f\"Rho: {call_rho}\")\n",
        "\n",
        "# Calculating Greeks for a put option:\n",
        "put_delta = delta(S, K, T, r, sigma, option_type=\"put\")\n",
        "put_gamma = gamma(S, K, T, r, sigma)\n",
        "put_theta = theta(S, K, T, r, sigma, option_type=\"put\")\n",
        "put_vega = vega(S, K, T, r, sigma)\n",
        "put_rho = rho(S, K, T, r, sigma, option_type=\"put\")\n",
        "\n",
        "print(f\"Put Option Greeks:\")\n",
        "print(f\"Delta: {put_delta}\")\n",
        "print(f\"Gamma: {put_gamma}\")\n",
        "print(f\"Theta: {put_theta}\")\n",
        "print(f\"Vega: {put_vega}\")\n",
        "print(f\"Rho: {put_rho}\")"
      ],
      "metadata": {
        "colab": {
          "base_uri": "https://localhost:8080/"
        },
        "id": "Y_1cucbzvqCF",
        "outputId": "0ad88dbf-8fbc-46e1-b255-a7f3398e150a"
      },
      "execution_count": 8,
      "outputs": [
        {
          "output_type": "stream",
          "name": "stdout",
          "text": [
            "Call Option Greeks:\n",
            "Delta: 0.6368306511756191\n",
            "Gamma: 0.018762017345846895\n",
            "Theta: -0.01757267820941972\n",
            "Vega: 0.3752403469169379\n",
            "Rho: 0.5323248154537634\n",
            "Put Option Greeks:\n",
            "Delta: -0.3631693488243809\n",
            "Gamma: 0.018762017345846895\n",
            "Theta: -0.004542138147766099\n",
            "Vega: 0.3752403469169379\n",
            "Rho: -0.4189046090469506\n"
          ]
        }
      ]
    }
  ]
}